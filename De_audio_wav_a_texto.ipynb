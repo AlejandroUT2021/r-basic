{
  "nbformat": 4,
  "nbformat_minor": 0,
  "metadata": {
    "colab": {
      "name": "De audio .wav a texto.ipynb",
      "provenance": [],
      "collapsed_sections": [
        "oLjoqomZzFBA",
        "AfWWP1lkzQ_-",
        "H5SJMZdnyFUy"
      ],
      "authorship_tag": "ABX9TyMjggSeEJViEOS3p//0iOS2",
      "include_colab_link": true
    },
    "kernelspec": {
      "name": "python3",
      "display_name": "Python 3"
    },
    "language_info": {
      "name": "python"
    }
  },
  "cells": [
    {
      "cell_type": "markdown",
      "metadata": {
        "id": "view-in-github",
        "colab_type": "text"
      },
      "source": [
        "<a href=\"https://colab.research.google.com/github/AlejandroUT2021/r-basic/blob/master/De_audio_wav_a_texto.ipynb\" target=\"_parent\"><img src=\"https://colab.research.google.com/assets/colab-badge.svg\" alt=\"Open In Colab\"/></a>"
      ]
    },
    {
      "cell_type": "markdown",
      "metadata": {
        "id": "j2jwWdI2huVC"
      },
      "source": [
        "## **Speech recognition en Python  - Jhonatan Alejandro Ureta Tasayco**"
      ]
    },
    {
      "cell_type": "markdown",
      "metadata": {
        "id": "oLjoqomZzFBA"
      },
      "source": [
        "### Preparación del entorno"
      ]
    },
    {
      "cell_type": "code",
      "metadata": {
        "id": "oeVFTqdfhTnG"
      },
      "source": [
        "# Speech recognition en Python  - Jhonatan Alejandro Ureta Tasayco"
      ],
      "execution_count": null,
      "outputs": []
    },
    {
      "cell_type": "code",
      "metadata": {
        "colab": {
          "base_uri": "https://localhost:8080/"
        },
        "id": "ZEyivEk7oxNB",
        "outputId": "5d3f9dd1-d08f-4ff8-f809-ebf6d45cfd1a"
      },
      "source": [
        "!pip install Speechrecognition"
      ],
      "execution_count": null,
      "outputs": [
        {
          "output_type": "stream",
          "name": "stdout",
          "text": [
            "Collecting Speechrecognition\n",
            "  Downloading SpeechRecognition-3.8.1-py2.py3-none-any.whl (32.8 MB)\n",
            "\u001b[K     |████████████████████████████████| 32.8 MB 1.4 MB/s \n",
            "\u001b[?25hInstalling collected packages: Speechrecognition\n",
            "Successfully installed Speechrecognition-3.8.1\n"
          ]
        }
      ]
    },
    {
      "cell_type": "code",
      "metadata": {
        "colab": {
          "base_uri": "https://localhost:8080/",
          "height": 35
        },
        "id": "ZB3DaGxphzto",
        "outputId": "f3eeaa38-b519-4ee3-bc9e-758821f52f01"
      },
      "source": [
        "#Importación de librerías\n",
        "import speech_recognition as sr\n",
        "import time\n",
        "\n",
        "sr.__version__"
      ],
      "execution_count": null,
      "outputs": [
        {
          "output_type": "execute_result",
          "data": {
            "application/vnd.google.colaboratory.intrinsic+json": {
              "type": "string"
            },
            "text/plain": [
              "'3.8.1'"
            ]
          },
          "metadata": {},
          "execution_count": 19
        }
      ]
    },
    {
      "cell_type": "code",
      "metadata": {
        "colab": {
          "base_uri": "https://localhost:8080/"
        },
        "id": "B86WGut4wOuW",
        "outputId": "671e970b-a94e-4f24-99a4-e2df71160b5e"
      },
      "source": [
        "!python --version"
      ],
      "execution_count": null,
      "outputs": [
        {
          "output_type": "stream",
          "name": "stdout",
          "text": [
            "Python 3.7.12\n"
          ]
        }
      ]
    },
    {
      "cell_type": "code",
      "metadata": {
        "id": "-EsXZE8CiPi3"
      },
      "source": [
        "r = sr.Recognizer()"
      ],
      "execution_count": null,
      "outputs": []
    },
    {
      "cell_type": "markdown",
      "metadata": {
        "id": "08MUxYXMxWdG"
      },
      "source": [
        "### Lectura de Audio"
      ]
    },
    {
      "cell_type": "code",
      "metadata": {
        "id": "R0Tiz3c3w70v"
      },
      "source": [
        "#Cambiar nombre del archivo cargado en colab\n",
        "archivo_audio='prueba.wav'"
      ],
      "execution_count": null,
      "outputs": []
    },
    {
      "cell_type": "markdown",
      "metadata": {
        "id": "AfWWP1lkzQ_-"
      },
      "source": [
        "### Primer intento"
      ]
    },
    {
      "cell_type": "code",
      "metadata": {
        "colab": {
          "base_uri": "https://localhost:8080/"
        },
        "id": "GHYx14QJibcC",
        "outputId": "7b1bf21c-3e8c-4414-9feb-ee053564738f"
      },
      "source": [
        "with sr.AudioFile(archivo_audio) as source:\n",
        "  #Print (\"Cargando archivo...\")\n",
        "  audio = r.listen(source)\n",
        "\n",
        "  try:\n",
        "      print(\"Leyendo archivo, por favor espere un momento...\")\n",
        "      text =r.recognize_google(audio, language='es-ES')\n",
        "      time.sleep(1.5)\n",
        "      print(text)\n",
        "  \n",
        "  except:\n",
        "      print(\"que extraño, seguro que es en español?\")\n",
        "\n"
      ],
      "execution_count": null,
      "outputs": [
        {
          "output_type": "stream",
          "name": "stdout",
          "text": [
            "Leyendo archivo, por favor espere un momento...\n",
            "Hola hola Esta es una prueba\n"
          ]
        }
      ]
    },
    {
      "cell_type": "markdown",
      "metadata": {
        "id": "H5SJMZdnyFUy"
      },
      "source": [
        "### Ajuste de ruido"
      ]
    },
    {
      "cell_type": "code",
      "metadata": {
        "colab": {
          "base_uri": "https://localhost:8080/"
        },
        "id": "VtAkTXV_yER9",
        "outputId": "a1027f0f-9ebf-4243-91e0-9b4d0938da15"
      },
      "source": [
        "with sr.AudioFile(archivo_audio) as source:\n",
        "  #Print (\"Cargando archivo...\")\n",
        "  r.adjust_for_ambient_noise(source)\n",
        "  audio = r.listen(source)  #listen o record\n",
        "\n",
        "  try:\n",
        "      print(\"Leyendo archivo, por favor espere un momento...\")\n",
        "      text =r.recognize_google(audio, language='es-ES')\n",
        "      time.sleep(1.5)\n",
        "      print(text)\n",
        "  \n",
        "  except:\n",
        "      print(\"que extraño, seguro que es en español?\")"
      ],
      "execution_count": null,
      "outputs": [
        {
          "output_type": "stream",
          "name": "stdout",
          "text": [
            "Leyendo archivo, por favor espere un momento...\n",
            "Hola hola Esta es una prueba\n"
          ]
        }
      ]
    },
    {
      "cell_type": "markdown",
      "metadata": {
        "id": "hrBCcsnSynh6"
      },
      "source": [
        "### Ajuste de lenguaje: español de Perú"
      ]
    },
    {
      "cell_type": "code",
      "metadata": {
        "colab": {
          "base_uri": "https://localhost:8080/"
        },
        "id": "x6qg8ZRlys94",
        "outputId": "326c063e-fc15-46e0-fe24-02d0f9f2e16f"
      },
      "source": [
        "with sr.AudioFile(archivo_audio) as source:\n",
        "  #Print (\"Cargando archivo...\")\n",
        "  r.adjust_for_ambient_noise(source)\n",
        "  audio = r.listen(source)  #listen o record\n",
        "\n",
        "  try:\n",
        "      print(\"Leyendo archivo, por favor espere un momento...\")\n",
        "      text =r.recognize_google(audio, language='es-PE')\n",
        "      time.sleep(1.5)\n",
        "      print(text)\n",
        "  \n",
        "  except:\n",
        "      print(\"que extraño, seguro que es en español?\")"
      ],
      "execution_count": null,
      "outputs": [
        {
          "output_type": "stream",
          "name": "stdout",
          "text": [
            "Leyendo archivo, por favor espere un momento...\n",
            "Hola hola Esta es una prueba\n"
          ]
        }
      ]
    },
    {
      "cell_type": "markdown",
      "metadata": {
        "id": "nmL6cyoB25Li"
      },
      "source": [
        "### Exportación de Archivo"
      ]
    },
    {
      "cell_type": "code",
      "metadata": {
        "id": "4ni3eHUS28-a"
      },
      "source": [
        "#Escojer el nombre que tendra el exportado en txt\n",
        "archivo_exportado=\"texto_exportado6.txt\""
      ],
      "execution_count": 53,
      "outputs": []
    },
    {
      "cell_type": "code",
      "metadata": {
        "colab": {
          "base_uri": "https://localhost:8080/"
        },
        "id": "snphU15y2EI7",
        "outputId": "8260d946-6030-45e3-daed-6f4534e3dd46"
      },
      "source": [
        "texto_exportado =open(archivo_exportado,\"w\")\n",
        "texto_exportado.write(text)\n"
      ],
      "execution_count": 55,
      "outputs": [
        {
          "output_type": "execute_result",
          "data": {
            "text/plain": [
              "28"
            ]
          },
          "metadata": {},
          "execution_count": 55
        }
      ]
    },
    {
      "cell_type": "code",
      "metadata": {
        "colab": {
          "base_uri": "https://localhost:8080/"
        },
        "id": "9TqhWJlu4SuD",
        "outputId": "acaac67b-3eb1-4b94-f04b-6476671ef6bb"
      },
      "source": [
        "texto_exportado =open(archivo_exportado,\"w\")\n",
        "texto_exportado.write(text)\n",
        "time.sleep(3.5)\n",
        "texto_exportado.close"
      ],
      "execution_count": 56,
      "outputs": [
        {
          "output_type": "execute_result",
          "data": {
            "text/plain": [
              "<function TextIOWrapper.close>"
            ]
          },
          "metadata": {},
          "execution_count": 56
        }
      ]
    },
    {
      "cell_type": "markdown",
      "metadata": {
        "id": "1QI-T9Wnz5Qj"
      },
      "source": [
        "### Prueba de Verbatim Basico"
      ]
    },
    {
      "cell_type": "code",
      "metadata": {
        "colab": {
          "base_uri": "https://localhost:8080/"
        },
        "id": "FJ45EUzx0m-W",
        "outputId": "c31db827-e9c2-4b2c-abb5-6f6acd2c1325"
      },
      "source": [
        "L=text\n",
        "print(type(L))"
      ],
      "execution_count": null,
      "outputs": [
        {
          "output_type": "stream",
          "name": "stdout",
          "text": [
            "<class 'str'>\n"
          ]
        }
      ]
    },
    {
      "cell_type": "code",
      "metadata": {
        "colab": {
          "base_uri": "https://localhost:8080/"
        },
        "id": "QnYLx3LZ0yiA",
        "outputId": "dd861a9f-46a8-4b0b-83bd-d6290cd69278"
      },
      "source": [
        "test =L.split()\n",
        "print(test,type(test))\n"
      ],
      "execution_count": null,
      "outputs": [
        {
          "output_type": "stream",
          "name": "stdout",
          "text": [
            "['Hola', 'hola', 'Esta', 'es', 'una', 'prueba'] <class 'list'>\n"
          ]
        }
      ]
    },
    {
      "cell_type": "code",
      "metadata": {
        "colab": {
          "base_uri": "https://localhost:8080/"
        },
        "id": "kq2BSxmUz-Na",
        "outputId": "fd3bcbca-9fa9-4c8b-bf83-d7e7114ee2b4"
      },
      "source": [
        "palabras =['hola','prueba','una']\n",
        "if any(palabra in test for palabra in palabras):\n",
        "  print ('es solo una prueba')"
      ],
      "execution_count": null,
      "outputs": [
        {
          "output_type": "stream",
          "name": "stdout",
          "text": [
            "es solo una prueba\n"
          ]
        }
      ]
    },
    {
      "cell_type": "code",
      "metadata": {
        "colab": {
          "base_uri": "https://localhost:8080/"
        },
        "id": "_UHZMupc1TtO",
        "outputId": "0e2d0e9e-8264-4e31-f557-0ea84e08af26"
      },
      "source": [
        "#un poco de regex\n",
        "import re\n",
        "print(re.findall(r'prueba|una',L),type(re.findall(r'prueba|una',L)))"
      ],
      "execution_count": null,
      "outputs": [
        {
          "output_type": "stream",
          "name": "stdout",
          "text": [
            "['una', 'prueba'] <class 'list'>\n"
          ]
        }
      ]
    },
    {
      "cell_type": "markdown",
      "metadata": {
        "id": "4XhvHNSqi142"
      },
      "source": [
        "### Autor: Jhonatan Alejandro Ureta Tasayco 2021"
      ]
    }
  ]
}